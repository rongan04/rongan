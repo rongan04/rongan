{
  "nbformat": 4,
  "nbformat_minor": 0,
  "metadata": {
    "colab": {
      "provenance": [],
      "authorship_tag": "ABX9TyN9J/2ZHkBh30G3ZhWl1XOR",
      "include_colab_link": true
    },
    "kernelspec": {
      "name": "python3",
      "display_name": "Python 3"
    },
    "language_info": {
      "name": "python"
    }
  },
  "cells": [
    {
      "cell_type": "markdown",
      "metadata": {
        "id": "view-in-github",
        "colab_type": "text"
      },
      "source": [
        "<a href=\"https://colab.research.google.com/github/rongan04/rongan/blob/main/Untitled2.ipynb\" target=\"_parent\"><img src=\"https://colab.research.google.com/assets/colab-badge.svg\" alt=\"Open In Colab\"/></a>"
      ]
    },
    {
      "cell_type": "code",
      "source": [
        "demo=\"大道之行也,  天下為公。選 賢與能， 講信修睦。故人不獨親其親 ，不獨子其子；使 老有所終，壯有所用，幼有 所長，矜寡孤獨廢疾者，皆有所養；男有 分女有歸。貨惡其棄 於地也不必藏於己；力惡其不出 於身也不必為己。是故謀 閉而不興，盜竊 亂賊而不作，故外戶而 不閉，是謂「大同」。\"\n",
        "s=demo.replace(\" \", \"\")\n",
        "print(s)\n",
        "print(len(s)) "
      ],
      "metadata": {
        "colab": {
          "base_uri": "https://localhost:8080/"
        },
        "id": "rTvwaUTrnEf2",
        "outputId": "9e153f8d-27ed-4345-9843-7acaffc1b92a"
      },
      "execution_count": 10,
      "outputs": [
        {
          "output_type": "stream",
          "name": "stdout",
          "text": [
            "大道之行也,天下為公。選賢與能，講信修睦。故人不獨親其親，不獨子其子；使老有所終，壯有所用，幼有所長，矜寡孤獨廢疾者，皆有所養；男有分女有歸。貨惡其棄於地也不必藏於己；力惡其不出於身也不必為己。是故謀閉而不興，盜竊亂賊而不作，故外戶而不閉，是謂「大同」。\n",
            "127\n"
          ]
        }
      ]
    },
    {
      "cell_type": "code",
      "source": [
        "a=\"\"\"大道之行也，天  下為公。 選賢與能，講信  修睦。故人不獨親其親，不獨子其子；使老有所終，壯有 所用，幼有 所長，矜寡孤獨廢疾者，皆有所養；男有分 女有歸。貨惡其棄 於地也不必藏於  己；力惡其不  出於身也不必為己。是故 謀閉而不興 ，盜竊亂賊而不作，故外戶而 不閉，是謂「大同」。\"\"\"\n",
        "c=a.replace(' ','')\n",
        "e=c.replace('。', '。\\n').replace('；', '；\\n').replace('，', '，\\n')\n",
        "print(e)\n"
      ],
      "metadata": {
        "colab": {
          "base_uri": "https://localhost:8080/"
        },
        "id": "_GNhH0iJp1fp",
        "outputId": "f77ce14d-9dd9-4d1b-933b-93bf95a412d2"
      },
      "execution_count": 11,
      "outputs": [
        {
          "output_type": "stream",
          "name": "stdout",
          "text": [
            "大道之行也，\n",
            "天下為公。\n",
            "選賢與能，\n",
            "講信修睦。\n",
            "故人不獨親其親，\n",
            "不獨子其子；\n",
            "使老有所終，\n",
            "壯有所用，\n",
            "幼有所長，\n",
            "矜寡孤獨廢疾者，\n",
            "皆有所養；\n",
            "男有分女有歸。\n",
            "貨惡其棄於地也不必藏於己；\n",
            "力惡其不出於身也不必為己。\n",
            "是故謀閉而不興，\n",
            "盜竊亂賊而不作，\n",
            "故外戶而不閉，\n",
            "是謂「大同」。\n",
            "\n"
          ]
        }
      ]
    },
    {
      "cell_type": "code",
      "source": [
        "demo = \"大道之行也， 天下為公。選 賢與能， 講信修睦。故人不獨親其親 ，不獨子其子；使 老有所終，壯有所用，幼有 所長，矜寡孤獨廢疾者，皆有所養；男有 分女有歸。貨惡其棄 於地也不必藏於己；力惡其不出 於身也不必為己。是故謀 閉而不興，盜竊 亂賊而不作，故外戶而 不閉，是謂「大同」。\"\n",
        "s=demo.replace(\" \", \"\")\n",
        "print(s)\n",
        "\n",
        "C =s\n",
        "print(s.count('不'))"
      ],
      "metadata": {
        "colab": {
          "base_uri": "https://localhost:8080/"
        },
        "id": "TFituWMEp7OA",
        "outputId": "66a3bccc-07dc-40ff-bc40-9e865426e35f"
      },
      "execution_count": 12,
      "outputs": [
        {
          "output_type": "stream",
          "name": "stdout",
          "text": [
            "大道之行也，天下為公。選賢與能，講信修睦。故人不獨親其親，不獨子其子；使老有所終，壯有所用，幼有所長，矜寡孤獨廢疾者，皆有所養；男有分女有歸。貨惡其棄於地也不必藏於己；力惡其不出於身也不必為己。是故謀閉而不興，盜竊亂賊而不作，故外戶而不閉，是謂「大同」。\n",
            "8\n"
          ]
        }
      ]
    }
  ]
}